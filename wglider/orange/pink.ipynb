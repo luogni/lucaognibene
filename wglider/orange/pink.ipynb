{
 "metadata": {
  "name": ""
 },
 "nbformat": 3,
 "nbformat_minor": 0,
 "worksheets": [
  {
   "cells": [
    {
     "cell_type": "code",
     "collapsed": false,
     "input": [
      "import datetime\n",
      "import pandas as pd\n",
      "import statsmodels.api as sm\n",
      "\n",
      "def import_data(fname):\n",
      "    # 2014-11-04 16:37:18.636480\n",
      "    listdt = []\n",
      "    listbl = []\n",
      "    with open(fname, \"r\") as f:\n",
      "        for line in f:\n",
      "            spl = line.split(' ')\n",
      "            dt = spl[0] + \" \" + spl[1]\n",
      "            listbl.append(int(spl[2]))\n",
      "            listdt.append(datetime.datetime.strptime(dt, \"%Y-%m-%d %H:%M:%S.%f\"))\n",
      "    df = pd.DataFrame({'BL': listbl, 'DT': listdt})\n",
      "    return df\n"
     ],
     "language": "python",
     "metadata": {},
     "outputs": [],
     "prompt_number": 34
    },
    {
     "cell_type": "code",
     "collapsed": false,
     "input": [
      "#df = import_data(\"battery-day1-nimh.log\")[:\"2014-11-05 09:00:00\"]\n",
      "df = import_data(\"battery.log\")#[:\"2014-11-05 09:00:00\"]\n",
      "#df.describe()\n",
      "#df.plot()\n",
      "#print df.BL\n",
      "#print df\n",
      "X = sm.add_constant(df.index)\n",
      "model = sm.OLS(df.BL, X)\n",
      "fitted = model.fit()\n",
      "print fitted.summary()\n",
      "X = df.DT.astype(datetime.datetime)\n",
      "plt.plot(X, df.BL, 'ro')\n",
      "plt.plot(X, fitted.fittedvalues, 'b')\n",
      "ylim(7500, 8300)\n",
      "plt.gcf().autofmt_xdate()\n"
     ],
     "language": "python",
     "metadata": {},
     "outputs": [
      {
       "output_type": "stream",
       "stream": "stdout",
       "text": [
        "                            OLS Regression Results                            \n",
        "==============================================================================\n",
        "Dep. Variable:                     BL   R-squared:                       0.897\n",
        "Model:                            OLS   Adj. R-squared:                  0.896\n",
        "Method:                 Least Squares   F-statistic:                     947.4\n",
        "Date:                Wed, 05 Nov 2014   Prob (F-statistic):           1.40e-55\n",
        "Time:                        16:41:35   Log-Likelihood:                -397.12\n",
        "No. Observations:                 111   AIC:                             798.2\n",
        "Df Residuals:                     109   BIC:                             803.7\n",
        "Df Model:                           1                                         \n",
        "==============================================================================\n",
        "                 coef    std err          t      P>|t|      [95.0% Conf. Int.]\n",
        "------------------------------------------------------------------------------\n",
        "const       8250.1311      1.648   5006.633      0.000      8246.865  8253.397\n",
        "x1            -0.7968      0.026    -30.779      0.000        -0.848    -0.746\n",
        "==============================================================================\n",
        "Omnibus:                        1.612   Durbin-Watson:                   0.373\n",
        "Prob(Omnibus):                  0.447   Jarque-Bera (JB):                1.652\n",
        "Skew:                          -0.238   Prob(JB):                        0.438\n",
        "Kurtosis:                       2.638   Cond. No.                         126.\n",
        "==============================================================================\n"
       ]
      },
      {
       "metadata": {},
       "output_type": "display_data",
       "png": "[encoded data removed]",
       "text": [
        "<matplotlib.figure.Figure at 0xac774b0c>"
       ]
      }
     ],
     "prompt_number": 57
    },
    {
     "cell_type": "code",
     "collapsed": false,
     "input": [],
     "language": "python",
     "metadata": {},
     "outputs": [],
     "prompt_number": 53
    },
    {
     "cell_type": "code",
     "collapsed": false,
     "input": [],
     "language": "python",
     "metadata": {},
     "outputs": []
    }
   ],
   "metadata": {}
  }
 ]
}